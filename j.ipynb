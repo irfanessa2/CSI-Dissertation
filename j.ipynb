{
 "cells": [
  {
   "cell_type": "code",
   "execution_count": null,
   "metadata": {},
   "outputs": [],
   "source": [
    "!mkdir test_imgs\n",
    "for i in range(10):\n",
    "    !cp test.jpg test_imgs/test{i}.jpg\n",
    "!rm -r *.jpg"
   ]
  },
  {
   "cell_type": "code",
   "execution_count": 11,
   "metadata": {},
   "outputs": [
    {
     "name": "stdout",
     "output_type": "stream",
     "text": [
      "loading Roboflow workspace...\n",
      "loading Roboflow project...\n",
      "Finished in: 15.14s\n"
     ]
    }
   ],
   "source": [
    "from roboflow import Roboflow\n",
    "from glob import glob\n",
    "import time\n",
    "\n",
    "rf = Roboflow(api_key=\"WfcwDS8JerpXetYTTN9c\")\n",
    "project = rf.workspace().project(\"temp-g8ijr\")\n",
    "model = project.version(1).model\n",
    "\n",
    "imgs = glob('test*',root_dir='test_imgs')\n",
    "predictions = []\n",
    "\n",
    "def predict(img):\n",
    "    predictions.append(model.predict('test_imgs/'+img, confidence=40, overlap=30).json())\n",
    "\n",
    "start = time.time_ns()\n",
    "[predict(img) for img in imgs]\n",
    "print(f'Finished in: {(time.time_ns()-start)/1e9:.2f}s')"
   ]
  },
  {
   "cell_type": "code",
   "execution_count": 12,
   "metadata": {},
   "outputs": [
    {
     "data": {
      "text/plain": [
       "[{'predictions': [], 'image': {'width': '640', 'height': '480'}},\n",
       " {'predictions': [], 'image': {'width': '640', 'height': '480'}},\n",
       " {'predictions': [], 'image': {'width': '640', 'height': '480'}},\n",
       " {'predictions': [], 'image': {'width': '640', 'height': '480'}},\n",
       " {'predictions': [], 'image': {'width': '640', 'height': '480'}},\n",
       " {'predictions': [], 'image': {'width': '640', 'height': '480'}},\n",
       " {'predictions': [], 'image': {'width': '640', 'height': '480'}},\n",
       " {'predictions': [], 'image': {'width': '640', 'height': '480'}},\n",
       " {'predictions': [], 'image': {'width': '640', 'height': '480'}},\n",
       " {'predictions': [], 'image': {'width': '640', 'height': '480'}}]"
      ]
     },
     "execution_count": 12,
     "metadata": {},
     "output_type": "execute_result"
    }
   ],
   "source": [
    "predictions"
   ]
  },
  {
   "cell_type": "code",
   "execution_count": 15,
   "metadata": {},
   "outputs": [
    {
     "name": "stdout",
     "output_type": "stream",
     "text": [
      "ar len: 13\n",
      "ar q len: 3\n",
      "[ 1  5  9 13]\n"
     ]
    }
   ],
   "source": [
    "from matplotlib import pyplot as plt\n",
    "import numpy as np\n",
    "\n",
    "eyes = [1,2,3,4,5,6,7,8,9,10,11,12,13]\n",
    "print(f'ar len: {len(eyes)}')\n",
    "print(f'ar q len: {len(eyes)//4}')\n",
    "\n",
    "def ar(points):\n",
    "    ind = np.arange(0,len(points), len(points)//4+1)\n",
    "    return np.array(points)[ind]\n",
    "\n",
    "print(ar(eyes))"
   ]
  },
  {
   "cell_type": "code",
   "execution_count": null,
   "metadata": {},
   "outputs": [],
   "source": [
    "points  = [[0.57394171, 0.7431039]), [0.57533634, 0.74388504], [0.57917458, 0.7453236 ], [0.58567452, 0.74897093], [0.59295338, 0.75187337], [0.6014449 , 0.75285953], [0.60791254, 0.75179845], [0.61293185, 0.74964082], [0.61769831, 0.74610925], [0.6156612 , 0.74409205], [0.61309081, 0.74127102], [0.6085192 , 0.73696786], [0.60057282, 0.73327911], [0.59217733, 0.73223478], [0.58340365, 0.73478502], [0.5769552 , 0.73987222]]"
   ]
  }
 ],
 "metadata": {
  "kernelspec": {
   "display_name": ".venv",
   "language": "python",
   "name": "python3"
  },
  "language_info": {
   "codemirror_mode": {
    "name": "ipython",
    "version": 3
   },
   "file_extension": ".py",
   "mimetype": "text/x-python",
   "name": "python",
   "nbconvert_exporter": "python",
   "pygments_lexer": "ipython3",
   "version": "3.10.12"
  }
 },
 "nbformat": 4,
 "nbformat_minor": 2
}
